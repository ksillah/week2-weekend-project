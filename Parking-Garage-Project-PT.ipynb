{
 "cells": [
  {
   "cell_type": "markdown",
   "metadata": {},
   "source": [
    "# Parking Garage Project\n",
    "\n",
    "Your assignment for today is to create a parking garage class to get more familiar with Object Oriented Programming(OOP). \n",
    "\n",
    "Your parking gargage class should have the following methods:\n",
    "- takeTicket\n",
    "   - This should decrease the amount of tickets available by 1\n",
    "   - This should decrease the amount of parkingSpaces available by 1\n",
    "- payForParking\n",
    "   - Display an input that waits for an amount from the user and store it in a variable\n",
    "   - If the payment variable is not empty then ->  display a message to the user that their ticket has been paid and they have 15mins to leave\n",
    "   - This should update the \"currentTicket\" dictionary key \"paid\" to True\n",
    "- leaveGarage\n",
    "   - If the ticket has been paid, display a message of \"Thank You, have a nice day\"\n",
    "   - If the ticket has not been paid, display an input prompt for payment\n",
    "      - Once paid, display message \"Thank you, have a nice day!\"\n",
    "   - Update parkingSpaces list to increase by 1\n",
    "   - Update tickets list to increase by 1\n",
    "\n",
    "You will need a few attributes as well:\n",
    "- tickets -> list\n",
    "- parkingSpaces -> list\n",
    "- currentTicket -> dictionary"
   ]
  },
  {
   "cell_type": "code",
   "execution_count": null,
   "metadata": {},
   "outputs": [
    {
     "name": "stdout",
     "output_type": "stream",
     "text": [
      "You have ticket number 2\n"
     ]
    }
   ],
   "source": [
    "#Start your code here...\n",
    "from IPython.display import clear_output\n",
    "class ParkingGarage():\n",
    "    def __init__(self, parkingSpaces, currentTicket):\n",
    "        self.parkingSpaces = parkingSpaces\n",
    "        self.currentTicket = currentTicket\n",
    "        \n",
    "    def takeTicket(self, parkingSpaces, currentTicket):\n",
    "        if len(parkingSpaces)>0:\n",
    "            next_tix=parkingSpaces[0]\n",
    "            currentTicket[next_tix]=\" \"\n",
    "            print(f'You have ticket number {next_tix}')\n",
    "            parkingSpaces.remove(next_tix)\n",
    "        else:\n",
    "            print(\"Sorry, the garage is currently full.\")\n",
    "    \n",
    "    def payForParking (self, parkingSpaces,currentTicket):\n",
    "        if len(parkingSpaces)==10:\n",
    "            print(\"You do not have a ticket. Please try again.\")\n",
    "        else:\n",
    "            num=int(input(\"Please enter your ticket number\")) \n",
    "            if num in currentTicket.keys():\n",
    "                if currentTicket[num]==\" \":\n",
    "                    print(\"Please pay for your ticket...\")\n",
    "                    input(\"Please press any key to pay.\")\n",
    "                    currentTicket[num]='Paid'\n",
    "                else:\n",
    "                    print(\"You have already paid.\")\n",
    "            else:\n",
    "                print('That ticket does not exist. Please try again.')\n",
    "            \n",
    "    def leaveGarage(self,parkingSpaces, currentTicket):\n",
    "        if len(parkingSpaces)==10:\n",
    "            print(\"You do not have a ticket. Please try again.\")\n",
    "        else:\n",
    "            num=int(input(\"Please enter your ticket number\"))\n",
    "            if num in currentTicket.keys():\n",
    "                if currentTicket[num]=='Paid':\n",
    "                    print('Thank you, have a nice day!')\n",
    "                    parkingSpaces.append(num)\n",
    "                    parkingSpaces.sort()\n",
    "                    del currentTicket[num]\n",
    "                else:\n",
    "                    print('You have not paid yet.')\n",
    "        \n",
    "def open_garage():     \n",
    "    tix = [i for i in range(1,11)]\n",
    "    garage = {}\n",
    "    my_garage = ParkingGarage (tix, garage)\n",
    "    print( 'Welcome to CT Parking Garage.')\n",
    "    \n",
    "    while True:\n",
    "        task=input(\"What would you like to do? Park, pay or leave?\").lower()\n",
    "        if task=='park':\n",
    "            clear_output()\n",
    "            my_garage.takeTicket(tix, garage)\n",
    "        elif task =='pay':\n",
    "            clear_output()\n",
    "            my_garage.payForParking(tix,garage)\n",
    "        elif task=='leave':\n",
    "            clear_output()\n",
    "            my_garage.leaveGarage(tix, garage)\n",
    "        elif task=='quit':\n",
    "            break\n",
    "        else:\n",
    "            print(\"Please try again.\")\n",
    "\n",
    "open_garage()\n",
    "        \n",
    "        "
   ]
  },
  {
   "cell_type": "code",
   "execution_count": null,
   "metadata": {},
   "outputs": [],
   "source": []
  },
  {
   "cell_type": "code",
   "execution_count": null,
   "metadata": {},
   "outputs": [],
   "source": []
  }
 ],
 "metadata": {
  "kernelspec": {
   "display_name": "Python 3",
   "language": "python",
   "name": "python3"
  },
  "language_info": {
   "codemirror_mode": {
    "name": "ipython",
    "version": 3
   },
   "file_extension": ".py",
   "mimetype": "text/x-python",
   "name": "python",
   "nbconvert_exporter": "python",
   "pygments_lexer": "ipython3",
   "version": "3.8.5"
  }
 },
 "nbformat": 4,
 "nbformat_minor": 2
}
